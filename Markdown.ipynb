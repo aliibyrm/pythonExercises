{
 "cells": [
  {
   "cell_type": "markdown",
   "id": "30cea2f2",
   "metadata": {},
   "source": [
    "Markdown içinde başlık oluşturmak:"
   ]
  },
  {
   "cell_type": "markdown",
   "id": "c1c9b4e0",
   "metadata": {},
   "source": [
    "\n",
    "\n",
    "# Başlık"
   ]
  },
  {
   "cell_type": "markdown",
   "id": "08227153",
   "metadata": {},
   "source": [
    "Markdown içinde alt başlık oluşturmak:"
   ]
  },
  {
   "cell_type": "markdown",
   "id": "ef680573",
   "metadata": {},
   "source": [
    "### Alt Başlık"
   ]
  },
  {
   "cell_type": "markdown",
   "id": "228692fd",
   "metadata": {},
   "source": [
    "Markdown içinde sırasız liste oluşturmak:"
   ]
  },
  {
   "cell_type": "markdown",
   "id": "d27c6d50",
   "metadata": {},
   "source": [
    "* Birim 1\n",
    "* Birim 2\n",
    "  * Birim 2a\n",
    "  * Birim 2b"
   ]
  },
  {
   "cell_type": "markdown",
   "id": "649ac5e8",
   "metadata": {},
   "source": [
    "Markdown içerisinde sırasız liste oluşturmanın başka yolu:"
   ]
  },
  {
   "cell_type": "markdown",
   "id": "3dcaee3f",
   "metadata": {},
   "source": [
    "- Birim 1\n",
    "- Birim 2\n",
    "  - Birim 2a\n",
    "  - Birim 2b"
   ]
  },
  {
   "cell_type": "markdown",
   "id": "ea5be74c",
   "metadata": {},
   "source": [
    "Markdown içerisinde sıralı liste oluşturma:"
   ]
  },
  {
   "cell_type": "markdown",
   "id": "162ae8c1",
   "metadata": {},
   "source": [
    "1. Birim 1\n",
    "2. Birim 2\n",
    "    1. Birim 2a\n",
    "    2. Birim 2b\n",
    "3. Birim 3"
   ]
  },
  {
   "cell_type": "markdown",
   "id": "a7f3d9de",
   "metadata": {},
   "source": [
    "Markdown içinde etiket bırakma:"
   ]
  },
  {
   "cell_type": "markdown",
   "id": "66a7c4b9",
   "metadata": {},
   "source": [
    "[Linkedin hesabıma gider](https://www.linkedin.com/in/ali-bayram-4610b8206/)"
   ]
  },
  {
   "cell_type": "markdown",
   "id": "763b82d1",
   "metadata": {},
   "source": [
    "Markdown içerisine resim ekleme:"
   ]
  },
  {
   "cell_type": "markdown",
   "id": "2af0bc66",
   "metadata": {},
   "source": [
    "![Github](https://github.githubassets.com/images/modules/logos_page/Octocat.png)"
   ]
  },
  {
   "cell_type": "markdown",
   "id": "4df9756c",
   "metadata": {},
   "source": [
    "Markdown içinde tablo oluşturma:"
   ]
  },
  {
   "cell_type": "markdown",
   "id": "c5d9b3ac",
   "metadata": {},
   "source": [
    "|İsim|Soyisim|\n",
    "|-----|------|\n",
    "|Ali|Bayram|\n",
    "|Deniz|Kılınç|\n",
    "|Cevher|Söylemez|\n"
   ]
  },
  {
   "cell_type": "markdown",
   "id": "3f324ae3",
   "metadata": {},
   "source": [
    "Markdown içerisinde alıntı yapma:"
   ]
  },
  {
   "cell_type": "markdown",
   "id": "9704412d",
   "metadata": {},
   "source": [
    ">alıntı yapma"
   ]
  },
  {
   "cell_type": "markdown",
   "id": "f8d2d079",
   "metadata": {},
   "source": [
    "Markdown italic metin kullanımı:"
   ]
  },
  {
   "cell_type": "markdown",
   "id": "a072b191",
   "metadata": {},
   "source": [
    "*Bu metin eğik(italic) yazılır*\n",
    "\n",
    "_Bu şekilde de eğik(italic) yazdırabilirsiniz_"
   ]
  },
  {
   "cell_type": "markdown",
   "id": "83c4726d",
   "metadata": {},
   "source": [
    "Markdown kalın metin kullanımı:"
   ]
  },
  {
   "cell_type": "markdown",
   "id": "06a31725",
   "metadata": {},
   "source": [
    "**Bu metin kalın(bold) yazılır**\n",
    "\n",
    "__Bu metin de kalın(bold) yazılır__"
   ]
  }
 ],
 "metadata": {
  "kernelspec": {
   "display_name": "Python 3 (ipykernel)",
   "language": "python",
   "name": "python3"
  },
  "language_info": {
   "codemirror_mode": {
    "name": "ipython",
    "version": 3
   },
   "file_extension": ".py",
   "mimetype": "text/x-python",
   "name": "python",
   "nbconvert_exporter": "python",
   "pygments_lexer": "ipython3",
   "version": "3.9.7"
  }
 },
 "nbformat": 4,
 "nbformat_minor": 5
}
