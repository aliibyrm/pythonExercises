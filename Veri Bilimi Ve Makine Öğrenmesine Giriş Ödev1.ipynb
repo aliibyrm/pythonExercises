{
 "cells": [
  {
   "cell_type": "markdown",
   "id": "4cad64ad",
   "metadata": {},
   "source": [
    "## Bil-210 Veri Bilimi Ve Makine Öğrenmesine Giriş Ödev 1"
   ]
  },
  {
   "cell_type": "markdown",
   "id": "67e99618",
   "metadata": {},
   "source": [
    "## İçindekiler\n",
    "* [Arkadaş Sayılar](#0)\n",
    "* [Mükemmel Sayılar](#1)"
   ]
  },
  {
   "cell_type": "markdown",
   "id": "eebadd08",
   "metadata": {},
   "source": [
    "### Arkadaş Sayılar <a id='0'></a>"
   ]
  },
  {
   "cell_type": "markdown",
   "id": "c3882ae3",
   "metadata": {},
   "source": [
    "Girilen sayıların arkadaş olup olmadığını konrol eden fonksiyondur."
   ]
  },
  {
   "cell_type": "code",
   "execution_count": null,
   "id": "9142f5c7",
   "metadata": {},
   "outputs": [],
   "source": [
    "def arkadasSayiKontrol(sayi1,sayi2):\n",
    "    tamBolen1=0\n",
    "    tamBolen2=0\n",
    "    for i in range(1,sayi1):\n",
    "        if sayi1%i==0:\n",
    "            tamBolen1=tamBolen1+i\n",
    "            \n",
    "    for i in range(1,sayi2):\n",
    "        if sayi2%i==0:\n",
    "            tamBolen2=tamBolen2+i\n",
    "            \n",
    "    if tamBolen1==sayi2 and tamBolen2==sayi1:\n",
    "        print(\"{} ile {} arkadaş sayıdır.\".format(sayi1, sayi2))\n",
    "    else:\n",
    "        print(\"{} ile {} arkadaş sayı degildir.\".format(sayi1, sayi2))"
   ]
  },
  {
   "cell_type": "markdown",
   "id": "fdc20bd5",
   "metadata": {},
   "source": [
    "Kullanıcıdan kontrol edilmesi istediği sayıların alınması."
   ]
  },
  {
   "cell_type": "code",
   "execution_count": null,
   "id": "e60bca2a",
   "metadata": {},
   "outputs": [],
   "source": [
    "sayi1=int(input(\"Arkadaşlığı kontrol edilecek 1.sayiyi giriniz:\"))\n",
    "sayi2=int(input(\"Arkadaşlığı kontrol edilecek 2.sayiyi giriniz:\"))"
   ]
  },
  {
   "cell_type": "markdown",
   "id": "9714240d",
   "metadata": {},
   "source": [
    "Sayıların fonksiyona gönderilmesi."
   ]
  },
  {
   "cell_type": "code",
   "execution_count": null,
   "id": "ab513fed",
   "metadata": {
    "scrolled": true
   },
   "outputs": [],
   "source": [
    "arkadasSayiKontrol(sayi1, sayi2)\n"
   ]
  },
  {
   "cell_type": "markdown",
   "id": "66748b57",
   "metadata": {},
   "source": [
    "### Mükemmel Sayılar <a id='1'></a>"
   ]
  },
  {
   "cell_type": "markdown",
   "id": "de5726fe",
   "metadata": {},
   "source": [
    "Girilen sayının mükemmel olup olmadığının kontrolünü sağlayan fonksiyon."
   ]
  },
  {
   "cell_type": "code",
   "execution_count": null,
   "id": "41b9ee24",
   "metadata": {},
   "outputs": [],
   "source": [
    "def mukkemmelSayiKontrol(sayi):\n",
    "    toplam=0\n",
    "    for i in range(1,sayi):\n",
    "        if(sayi%i == 0): \n",
    "            toplam +=i\n",
    "            \n",
    "    if(sayi == toplam): \n",
    "        print(sayi,\"Sayısı Mükemmel Sayıdır.\") \n",
    "    else:\n",
    "        print(sayi, \"Sayısı Mükemmel Sayı Degildir\")\n",
    "    \n",
    "    \n",
    "    \n"
   ]
  },
  {
   "cell_type": "markdown",
   "id": "b70dd8b6",
   "metadata": {},
   "source": [
    "Kullanıcıdan mükemmeliğinin kontrol edilmesi istenilen sayının alınması."
   ]
  },
  {
   "cell_type": "code",
   "execution_count": null,
   "id": "2da17f4d",
   "metadata": {},
   "outputs": [],
   "source": [
    "sayi = int(input(\"Bir Sayı Giriniz:\"))\n"
   ]
  },
  {
   "cell_type": "markdown",
   "id": "4a382835",
   "metadata": {},
   "source": [
    "Sayının fonksiyona gönderilmesi."
   ]
  },
  {
   "cell_type": "code",
   "execution_count": null,
   "id": "54d4afd8",
   "metadata": {},
   "outputs": [],
   "source": [
    "mukkemmelSayiKontrol(sayi)"
   ]
  },
  {
   "cell_type": "code",
   "execution_count": null,
   "id": "6d2695aa",
   "metadata": {},
   "outputs": [],
   "source": []
  }
 ],
 "metadata": {
  "kernelspec": {
   "display_name": "Python 3 (ipykernel)",
   "language": "python",
   "name": "python3"
  },
  "language_info": {
   "codemirror_mode": {
    "name": "ipython",
    "version": 3
   },
   "file_extension": ".py",
   "mimetype": "text/x-python",
   "name": "python",
   "nbconvert_exporter": "python",
   "pygments_lexer": "ipython3",
   "version": "3.9.7"
  }
 },
 "nbformat": 4,
 "nbformat_minor": 5
}
